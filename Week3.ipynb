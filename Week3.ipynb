{
 "cells": [
  {
   "cell_type": "code",
   "execution_count": 89,
   "id": "36542d55",
   "metadata": {},
   "outputs": [],
   "source": [
    "import networkx as nx\n",
    "import pandas as pd"
   ]
  },
  {
   "cell_type": "code",
   "execution_count": 261,
   "id": "a3cb6d9d",
   "metadata": {},
   "outputs": [],
   "source": [
    "def initialise_network(protein_network, essential_proteins, remove_essentials=False, threshold=700, \n",
    "                       largest_connected_component=False):\n",
    "    '''\n",
    "    Given a protein protein interaction network, and a list of\n",
    "    essential proteins, return a new pruned network that meets\n",
    "    some given specifications.\n",
    "    \n",
    "    Parameters\n",
    "    ----------\n",
    "    protein_network : networkx graph\n",
    "    \n",
    "    essential_proteins : list\n",
    "    \n",
    "    remove_essentials : bool, default False\n",
    "    \n",
    "    threshold : int, default 700\n",
    "    '''\n",
    "    \n",
    "    ## remove all necessary nodes ##\n",
    "    if remove_essentials:\n",
    "         for node in essential_proteins:\n",
    "            protein_network.remove_node(node)\n",
    "    edges_to_remove = []\n",
    "    for edge in protein_network.edges:\n",
    "        edge_weights = list(protein_network.get_edge_data(edge[0], edge[1]).values())\n",
    "        if edge_weights[0] < threshold:\n",
    "            edges_to_remove.append(edge)\n",
    "    for edge in edges_to_remove:\n",
    "        protein_network.remove_edge(edge[0], edge[1])\n",
    "    ## now create a copy that is unweighted ##\n",
    "    H = nx.create_empty_copy(protein_network)\n",
    "    for edge in protein_network.edges:\n",
    "        H.add_edge(edge[0], edge[1])\n",
    "    ## fix node names ##\n",
    "    mapping = []\n",
    "    for node in protein_network.nodes:\n",
    "        mapping.append(node.removeprefix('4932.'))\n",
    "    H = nx.relabel_nodes(H, dict(zip(H, mapping)), copy=False) # <-- cute little python hack i just learnt! (i feel very proud of myself)\n",
    "    ## (if it is needed) return the largest connected subgraph ##\n",
    "    if largest_connected_component:\n",
    "        return H.subgraph(max(nx.connected_components(H), key=len))\n",
    "    return H"
   ]
  },
  {
   "cell_type": "markdown",
   "id": "d7925357",
   "metadata": {},
   "source": [
    "## Compare Connected Components"
   ]
  },
  {
   "cell_type": "code",
   "execution_count": 264,
   "id": "d0879309",
   "metadata": {},
   "outputs": [],
   "source": [
    "protein_network = nx.read_weighted_edgelist(\"4932.protein.links.v12.0.txt\",comments=\"#\",nodetype=str)\n",
    "df = pd.read_table(\"EssentialProteins_YeastMine_cerevisiae.csv\", sep=\",\", header = None)\n",
    "df.columns = ['primary identifier','secondary identifier','organism short name','symbol','description']\n",
    "essential_nodes = [n for n in protein_network.nodes() if n[5:] in list(df['secondary identifier'])]\n",
    "G = initialise_network(protein_network, essential_nodes, remove_essentials=False, largest_connected_component=False)"
   ]
  },
  {
   "cell_type": "code",
   "execution_count": 265,
   "id": "53b09580",
   "metadata": {},
   "outputs": [
    {
     "name": "stdout",
     "output_type": "stream",
     "text": [
      "Graph with 6538 nodes and 104188 edges\n"
     ]
    }
   ],
   "source": [
    "print(G)"
   ]
  },
  {
   "cell_type": "code",
   "execution_count": 219,
   "id": "985a50fc",
   "metadata": {},
   "outputs": [
    {
     "name": "stdout",
     "output_type": "stream",
     "text": [
      "Graph with 5716 nodes and 104138 edges\n"
     ]
    }
   ],
   "source": [
    "protein_network = nx.read_weighted_edgelist(\"4932.protein.links.v12.0.txt\",comments=\"#\",nodetype=str)\n",
    "df = pd.read_table(\"EssentialProteins_YeastMine_cerevisiae.csv\", sep=\",\", header = None)\n",
    "df.columns = ['primary identifier','secondary identifier','organism short name','symbol','description']\n",
    "essential_nodes = [n for n in protein_network.nodes() if n[5:] in list(df['secondary identifier'])]\n",
    "G = initialise_network(protein_network, essential_nodes, remove_essentials=False, largest_connected_component=True)\n",
    "print(G)"
   ]
  },
  {
   "cell_type": "code",
   "execution_count": 267,
   "id": "38a03762",
   "metadata": {},
   "outputs": [
    {
     "data": {
      "text/plain": [
       "'Q0010'"
      ]
     },
     "execution_count": 267,
     "metadata": {},
     "output_type": "execute_result"
    }
   ],
   "source": [
    "list(G.nodes)[0]"
   ]
  },
  {
   "cell_type": "markdown",
   "id": "5f6f387b",
   "metadata": {},
   "source": [
    "# Methods on the Graph"
   ]
  },
  {
   "cell_type": "code",
   "execution_count": 271,
   "id": "26765671",
   "metadata": {},
   "outputs": [],
   "source": [
    "def shortest_path(G, node1, node2):\n",
    "    '''\n",
    "    Given a connected undirected graph and two nodes, \n",
    "    return the shortest path between them\n",
    "    \n",
    "    Parameters\n",
    "    ----------\n",
    "    G : networkx graph\n",
    "        Undirected connected networkx graph.\n",
    "        \n",
    "    node1, node2 : networkx nodes\n",
    "        Nodes of the graph G\n",
    "    \n",
    "    Returns\n",
    "    -------\n",
    "    path : networkx path\n",
    "        Shortest path between node1 and node2.\n",
    "    '''\n",
    "    return None"
   ]
  },
  {
   "cell_type": "code",
   "execution_count": null,
   "id": "75087de2",
   "metadata": {},
   "outputs": [],
   "source": []
  },
  {
   "cell_type": "code",
   "execution_count": null,
   "id": "200cc548",
   "metadata": {},
   "outputs": [],
   "source": []
  }
 ],
 "metadata": {
  "kernelspec": {
   "display_name": "Python 3 (ipykernel)",
   "language": "python",
   "name": "python3"
  },
  "language_info": {
   "codemirror_mode": {
    "name": "ipython",
    "version": 3
   },
   "file_extension": ".py",
   "mimetype": "text/x-python",
   "name": "python",
   "nbconvert_exporter": "python",
   "pygments_lexer": "ipython3",
   "version": "3.11.5"
  }
 },
 "nbformat": 4,
 "nbformat_minor": 5
}
